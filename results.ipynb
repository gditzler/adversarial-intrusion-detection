{
 "cells": [
  {
   "cell_type": "markdown",
   "id": "33b4f7de-060a-4c39-8756-ed9c68d8a1aa",
   "metadata": {},
   "source": [
    "# Plot Research and Generate Tables "
   ]
  },
  {
   "cell_type": "code",
   "execution_count": 2,
   "id": "7308f21e-10d5-43fb-9f89-946d50ab13bc",
   "metadata": {},
   "outputs": [],
   "source": [
    "import numpy as np \n",
    "import pandas as pd\n",
    "import matplotlib.pylab as plt\n",
    "plt.style.use('ggplot')"
   ]
  },
  {
   "cell_type": "markdown",
   "id": "3811ee33-3260-4f4a-9356-279316faf3cc",
   "metadata": {},
   "source": [
    "## Define Functions for the Notebook "
   ]
  },
  {
   "cell_type": "code",
   "execution_count": 3,
   "id": "43d1954d-8181-4e36-9712-a3b66eb1b827",
   "metadata": {},
   "outputs": [],
   "source": [
    "def plot_exploratory_results(fname:str=None):\n",
    "    d = np.load(fname)\n",
    "    STATS = ['accs', 'mccs']\n",
    "    LABELS = ['Accuracy', 'MCC']\n",
    "    METHOD = ['if', 'svm', 'ee', 'lo']\n",
    "    x_labels = ['IF', 'SVM', 'EE', 'LO']\n",
    "\n",
    "    for stat, lab_name in zip(STATS, LABELS): \n",
    "        # build gs\n",
    "        g1, g2, g3, g4, g5 = [], [], [], [], []\n",
    "        for method in METHOD: \n",
    "            g1.append(d[''.join([stat, '_', method, '_baseline'])])\n",
    "            g2.append(d[''.join([stat, '_', method, '_deepfool'])])\n",
    "            g3.append(d[''.join([stat, '_', method, '_pgd'])])\n",
    "            g4.append(d[''.join([stat, '_', method, '_fgsm'])])\n",
    "            g5.append(d[''.join([stat, '_', method, '_dt'])])\n",
    "        \n",
    "    \n",
    "        x = np.arange(len(x_labels))  # the label locations\n",
    "        width = 0.15  # the width of the bars\n",
    "    \n",
    "        plt.figure()\n",
    "        fig, ax = plt.subplots()\n",
    "        rects1 = ax.bar(x - 2*width, g1, width, label='Baseline')\n",
    "        rects2 = ax.bar(x - 1*width, g2, width, label='Deepfool')\n",
    "        rects3 = ax.bar(x + 0*width, g3, width, label='PGD')\n",
    "        rects4 = ax.bar(x + 1*width, g4, width, label='FGSM')\n",
    "        rects5 = ax.bar(x + 2*width, g5, width, label='DT')\n",
    "\n",
    "        ax.set_ylabel(lab_name)\n",
    "        ax.set_xticks(x)\n",
    "        ax.set_xticklabels(x_labels)\n",
    "        ax.legend()\n",
    "        fig.tight_layout()\n",
    "        plt.savefig(''.join([fname[:-4], '_', stat, '.pdf']) )\n",
    "        plt.close()\n",
    "    return None "
   ]
  },
  {
   "cell_type": "markdown",
   "id": "92e502a2-819b-4b11-a06e-dca40abd124a",
   "metadata": {},
   "source": [
    "# Exploratory Attacks "
   ]
  },
  {
   "cell_type": "code",
   "execution_count": null,
   "id": "b44e7acd-d31e-4293-a665-722facf3dfe3",
   "metadata": {},
   "outputs": [],
   "source": [
    "plot_exploratory_results(fname='outputs/results_ids_attacks_all_nslkdd.npz')\n",
    "plot_exploratory_results(fname='outputs/results_ids_attacks_only_nslkdd.npz')"
   ]
  }
 ],
 "metadata": {
  "kernelspec": {
   "display_name": "Python 3",
   "language": "python",
   "name": "python3"
  },
  "language_info": {
   "codemirror_mode": {
    "name": "ipython",
    "version": 3
   },
   "file_extension": ".py",
   "mimetype": "text/x-python",
   "name": "python",
   "nbconvert_exporter": "python",
   "pygments_lexer": "ipython3",
   "version": "3.8.10"
  }
 },
 "nbformat": 4,
 "nbformat_minor": 5
}
