{
 "cells": [
  {
   "cell_type": "markdown",
   "id": "33b4f7de-060a-4c39-8756-ed9c68d8a1aa",
   "metadata": {},
   "source": [
    "# About \n",
    "\n",
    "This notebook generates the tables/plots for causative and exploratory attacks against intrusion detection systems. "
   ]
  },
  {
   "cell_type": "code",
   "execution_count": 1,
   "id": "7308f21e-10d5-43fb-9f89-946d50ab13bc",
   "metadata": {},
   "outputs": [],
   "source": [
    "import numpy as np \n",
    "import pandas as pd\n",
    "import matplotlib.pylab as plt\n",
    "plt.style.use('ggplot')"
   ]
  },
  {
   "cell_type": "markdown",
   "id": "3811ee33-3260-4f4a-9356-279316faf3cc",
   "metadata": {},
   "source": [
    "## Define Functions for the Notebook "
   ]
  },
  {
   "cell_type": "code",
   "execution_count": 8,
   "id": "43d1954d-8181-4e36-9712-a3b66eb1b827",
   "metadata": {},
   "outputs": [],
   "source": [
    "def plot_exploratory_results(fname:str=None):\n",
    "    d = np.load(fname, allow_pickle=True)\n",
    "    d = d['all_pers']\n",
    "\n",
    "    STATS = ['accs', 'mccs']\n",
    "    LABELS = ['Accuracy', 'MCC']\n",
    "    METHOD = ['if', 'svm', 'ee', 'lo']\n",
    "    x_labels = ['IF', 'SVM', 'EE', 'LO']\n",
    "\n",
    "    for stat, lab_name in zip(STATS, LABELS): \n",
    "        # build gs\n",
    "        g1, g2, g3, g4, g5 = [], [], [], [], []\n",
    "        for method in METHOD: \n",
    "            g1.append(d[''.join([stat, '_', method, '_baseline'])])\n",
    "            g2.append(d[''.join([stat, '_', method, '_deepfool'])])\n",
    "            g3.append(d[''.join([stat, '_', method, '_pgd'])])\n",
    "            g4.append(d[''.join([stat, '_', method, '_fgsm'])])\n",
    "            g5.append(d[''.join([stat, '_', method, '_dt'])])\n",
    "        \n",
    "    \n",
    "        x = np.arange(len(x_labels))  # the label locations\n",
    "        width = 0.15  # the width of the bars\n",
    "    \n",
    "        plt.figure()\n",
    "        fig, ax = plt.subplots()\n",
    "        rects1 = ax.bar(x - 2*width, g1, width, label='Baseline')\n",
    "        rects2 = ax.bar(x - 1*width, g2, width, label='Deepfool')\n",
    "        rects3 = ax.bar(x + 0*width, g3, width, label='PGD')\n",
    "        rects4 = ax.bar(x + 1*width, g4, width, label='FGSM')\n",
    "        rects5 = ax.bar(x + 2*width, g5, width, label='DT')\n",
    "\n",
    "        ax.set_ylabel(lab_name)\n",
    "        ax.set_xticks(x)\n",
    "        ax.set_xticklabels(x_labels)\n",
    "        ax.legend()\n",
    "        fig.tight_layout()\n",
    "        plt.savefig(''.join([fname[:-4], '_', stat, '.pdf']) )\n",
    "        plt.close()\n",
    "    return None "
   ]
  },
  {
   "cell_type": "code",
   "execution_count": 11,
   "id": "f0964b92-85d4-44bf-af1c-4909d98a1003",
   "metadata": {},
   "outputs": [],
   "source": [
    "def plot_causative_results(fname:str=None): \n",
    "    d = np.load(fname, allow_pickle=True)\n",
    "    d = d['all_perfs']\n",
    "    \n",
    "    STATS = ['accs', 'mccs']\n",
    "    LABELS = ['Accuracy', 'MCC']\n",
    "    METHOD = ['if', 'svm', 'ee', 'lo']\n",
    "    x_labels = ['IF', 'SVM', 'EE', 'LO']\n",
    "    \n",
    "    for stat, lab_name in zip(STATS, LABELS): \n",
    "        # build gs\n",
    "        g1, g2, g3, g4, g5 = [], [], [], [], []\n",
    "        for method in METHOD: \n",
    "            g1.append(d[''.join([stat, '_', method, '_baseline'])])\n",
    "            g2.append(d[''.join([stat, '_', method, '_pattern'])])\n",
    "            g3.append(d[''.join([stat, '_', method, '_single'])])\n",
    "            g4.append(d[''.join([stat, '_', method, '_svc'])])\n",
    "        \n",
    "        x = np.arange(len(x_labels))  # the label locations\n",
    "        width = 0.15  # the width of the bars\n",
    "    \n",
    "        plt.figure()\n",
    "        fig, ax = plt.subplots()\n",
    "        rects1 = ax.bar(x - 2*width, g1, width, label='Baseline')\n",
    "        rects2 = ax.bar(x - 1*width, g2, width, label='BD-Pattern')\n",
    "        rects3 = ax.bar(x + 0*width, g3, width, label='BD-Single')\n",
    "        rects4 = ax.bar(x + 1*width, g4, width, label='SVC')\n",
    "    \n",
    "        ax.set_ylabel(lab_name)\n",
    "        ax.set_xticks(x)\n",
    "        ax.set_xticklabels(x_labels)\n",
    "        ax.legend()\n",
    "        fig.tight_layout()\n",
    "        plt.savefig(''.join([fname[:-4], '_', stat, '.pdf']) )\n",
    "        plt.close()\n",
    "    return None "
   ]
  },
  {
   "cell_type": "markdown",
   "id": "92e502a2-819b-4b11-a06e-dca40abd124a",
   "metadata": {},
   "source": [
    "# Exploratory Attacks "
   ]
  },
  {
   "cell_type": "code",
   "execution_count": 12,
   "id": "b44e7acd-d31e-4293-a665-722facf3dfe3",
   "metadata": {},
   "outputs": [
    {
     "output_type": "error",
     "ename": "IndexError",
     "evalue": "only integers, slices (`:`), ellipsis (`...`), numpy.newaxis (`None`) and integer or boolean arrays are valid indices",
     "traceback": [
      "\u001b[1;31m---------------------------------------------------------------------------\u001b[0m",
      "\u001b[1;31mIndexError\u001b[0m                                Traceback (most recent call last)",
      "\u001b[1;32m<ipython-input-12-eb30e82f1aaa>\u001b[0m in \u001b[0;36m<module>\u001b[1;34m\u001b[0m\n\u001b[1;32m----> 1\u001b[1;33m \u001b[0mplot_exploratory_results\u001b[0m\u001b[1;33m(\u001b[0m\u001b[0mfname\u001b[0m\u001b[1;33m=\u001b[0m\u001b[1;34m'outputs/results_ids_attacks_all_nslkdd.npz'\u001b[0m\u001b[1;33m)\u001b[0m\u001b[1;33m\u001b[0m\u001b[1;33m\u001b[0m\u001b[0m\n\u001b[0m\u001b[0;32m      2\u001b[0m \u001b[0mplot_exploratory_results\u001b[0m\u001b[1;33m(\u001b[0m\u001b[0mfname\u001b[0m\u001b[1;33m=\u001b[0m\u001b[1;34m'outputs/results_ids_attacks_only_nslkdd.npz'\u001b[0m\u001b[1;33m)\u001b[0m\u001b[1;33m\u001b[0m\u001b[1;33m\u001b[0m\u001b[0m\n",
      "\u001b[1;32m<ipython-input-8-1359044cbe37>\u001b[0m in \u001b[0;36mplot_exploratory_results\u001b[1;34m(fname)\u001b[0m\n\u001b[0;32m     12\u001b[0m         \u001b[0mg1\u001b[0m\u001b[1;33m,\u001b[0m \u001b[0mg2\u001b[0m\u001b[1;33m,\u001b[0m \u001b[0mg3\u001b[0m\u001b[1;33m,\u001b[0m \u001b[0mg4\u001b[0m\u001b[1;33m,\u001b[0m \u001b[0mg5\u001b[0m \u001b[1;33m=\u001b[0m \u001b[1;33m[\u001b[0m\u001b[1;33m]\u001b[0m\u001b[1;33m,\u001b[0m \u001b[1;33m[\u001b[0m\u001b[1;33m]\u001b[0m\u001b[1;33m,\u001b[0m \u001b[1;33m[\u001b[0m\u001b[1;33m]\u001b[0m\u001b[1;33m,\u001b[0m \u001b[1;33m[\u001b[0m\u001b[1;33m]\u001b[0m\u001b[1;33m,\u001b[0m \u001b[1;33m[\u001b[0m\u001b[1;33m]\u001b[0m\u001b[1;33m\u001b[0m\u001b[1;33m\u001b[0m\u001b[0m\n\u001b[0;32m     13\u001b[0m         \u001b[1;32mfor\u001b[0m \u001b[0mmethod\u001b[0m \u001b[1;32min\u001b[0m \u001b[0mMETHOD\u001b[0m\u001b[1;33m:\u001b[0m\u001b[1;33m\u001b[0m\u001b[1;33m\u001b[0m\u001b[0m\n\u001b[1;32m---> 14\u001b[1;33m             \u001b[0mg1\u001b[0m\u001b[1;33m.\u001b[0m\u001b[0mappend\u001b[0m\u001b[1;33m(\u001b[0m\u001b[0md\u001b[0m\u001b[1;33m[\u001b[0m\u001b[1;34m''\u001b[0m\u001b[1;33m.\u001b[0m\u001b[0mjoin\u001b[0m\u001b[1;33m(\u001b[0m\u001b[1;33m[\u001b[0m\u001b[0mstat\u001b[0m\u001b[1;33m,\u001b[0m \u001b[1;34m'_'\u001b[0m\u001b[1;33m,\u001b[0m \u001b[0mmethod\u001b[0m\u001b[1;33m,\u001b[0m \u001b[1;34m'_baseline'\u001b[0m\u001b[1;33m]\u001b[0m\u001b[1;33m)\u001b[0m\u001b[1;33m]\u001b[0m\u001b[1;33m)\u001b[0m\u001b[1;33m\u001b[0m\u001b[1;33m\u001b[0m\u001b[0m\n\u001b[0m\u001b[0;32m     15\u001b[0m             \u001b[0mg2\u001b[0m\u001b[1;33m.\u001b[0m\u001b[0mappend\u001b[0m\u001b[1;33m(\u001b[0m\u001b[0md\u001b[0m\u001b[1;33m[\u001b[0m\u001b[1;34m''\u001b[0m\u001b[1;33m.\u001b[0m\u001b[0mjoin\u001b[0m\u001b[1;33m(\u001b[0m\u001b[1;33m[\u001b[0m\u001b[0mstat\u001b[0m\u001b[1;33m,\u001b[0m \u001b[1;34m'_'\u001b[0m\u001b[1;33m,\u001b[0m \u001b[0mmethod\u001b[0m\u001b[1;33m,\u001b[0m \u001b[1;34m'_deepfool'\u001b[0m\u001b[1;33m]\u001b[0m\u001b[1;33m)\u001b[0m\u001b[1;33m]\u001b[0m\u001b[1;33m)\u001b[0m\u001b[1;33m\u001b[0m\u001b[1;33m\u001b[0m\u001b[0m\n\u001b[0;32m     16\u001b[0m             \u001b[0mg3\u001b[0m\u001b[1;33m.\u001b[0m\u001b[0mappend\u001b[0m\u001b[1;33m(\u001b[0m\u001b[0md\u001b[0m\u001b[1;33m[\u001b[0m\u001b[1;34m''\u001b[0m\u001b[1;33m.\u001b[0m\u001b[0mjoin\u001b[0m\u001b[1;33m(\u001b[0m\u001b[1;33m[\u001b[0m\u001b[0mstat\u001b[0m\u001b[1;33m,\u001b[0m \u001b[1;34m'_'\u001b[0m\u001b[1;33m,\u001b[0m \u001b[0mmethod\u001b[0m\u001b[1;33m,\u001b[0m \u001b[1;34m'_pgd'\u001b[0m\u001b[1;33m]\u001b[0m\u001b[1;33m)\u001b[0m\u001b[1;33m]\u001b[0m\u001b[1;33m)\u001b[0m\u001b[1;33m\u001b[0m\u001b[1;33m\u001b[0m\u001b[0m\n",
      "\u001b[1;31mIndexError\u001b[0m: only integers, slices (`:`), ellipsis (`...`), numpy.newaxis (`None`) and integer or boolean arrays are valid indices"
     ]
    }
   ],
   "source": [
    "plot_exploratory_results(fname='outputs/results_ids_attacks_all_nslkdd.npz')\n",
    "plot_exploratory_results(fname='outputs/results_ids_attacks_only_nslkdd.npz')"
   ]
  },
  {
   "cell_type": "markdown",
   "id": "51427655-d1db-44b3-a04e-404f1636c0fe",
   "metadata": {},
   "source": [
    "# Causative Attacks"
   ]
  },
  {
   "cell_type": "code",
   "execution_count": 5,
   "id": "4d806995-5661-4074-83e3-ba4e569c1c3d",
   "metadata": {},
   "outputs": [
    {
     "data": {
      "text/plain": [
       "<Figure size 432x288 with 0 Axes>"
      ]
     },
     "metadata": {},
     "output_type": "display_data"
    },
    {
     "data": {
      "text/plain": [
       "<Figure size 432x288 with 0 Axes>"
      ]
     },
     "metadata": {},
     "output_type": "display_data"
    },
    {
     "data": {
      "text/plain": [
       "<Figure size 432x288 with 0 Axes>"
      ]
     },
     "metadata": {},
     "output_type": "display_data"
    },
    {
     "data": {
      "text/plain": [
       "<Figure size 432x288 with 0 Axes>"
      ]
     },
     "metadata": {},
     "output_type": "display_data"
    },
    {
     "data": {
      "text/plain": [
       "<Figure size 432x288 with 0 Axes>"
      ]
     },
     "metadata": {},
     "output_type": "display_data"
    },
    {
     "data": {
      "text/plain": [
       "<Figure size 432x288 with 0 Axes>"
      ]
     },
     "metadata": {},
     "output_type": "display_data"
    }
   ],
   "source": [
    "plot_causative_results(fname='outputs/results_ids_causative_nslkdd_pp5.npz')\n",
    "plot_causative_results(fname='outputs/results_ids_causative_nslkdd_pp10.npz')\n",
    "plot_causative_results(fname='outputs/results_ids_causative_nslkdd_pp15.npz')"
   ]
  },
  {
   "cell_type": "code",
   "execution_count": null,
   "id": "d1fd1742-f5b2-4068-ae68-c09d4bd15a2f",
   "metadata": {},
   "outputs": [],
   "source": []
  }
 ],
 "metadata": {
  "kernelspec": {
   "name": "python3",
   "display_name": "Python 3.8.10 64-bit ('base': conda)"
  },
  "language_info": {
   "codemirror_mode": {
    "name": "ipython",
    "version": 3
   },
   "file_extension": ".py",
   "mimetype": "text/x-python",
   "name": "python",
   "nbconvert_exporter": "python",
   "pygments_lexer": "ipython3",
   "version": "3.8.10"
  },
  "interpreter": {
   "hash": "0fd9392274fc82a63c2a75f43f796d95e051853c3a46ffe4696bb4291dc65e3b"
  }
 },
 "nbformat": 4,
 "nbformat_minor": 5
}